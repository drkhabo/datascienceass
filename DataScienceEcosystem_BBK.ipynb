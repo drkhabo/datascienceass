{
 "cells": [
  {
   "cell_type": "markdown",
   "id": "5929fc72",
   "metadata": {},
   "source": [
    "## Data Science Tools and Ecosystem"
   ]
  },
  {
   "cell_type": "markdown",
   "id": "6be8b722",
   "metadata": {},
   "source": [
    "In this notebook, Data Science Tools and Ecosystem are summarised. "
   ]
  },
  {
   "cell_type": "markdown",
   "id": "fcfce7e5",
   "metadata": {},
   "source": [
    "**Objectives**:\n",
    "* Listed common libraries\n",
    "* Named some popular languages used by data scientists\n",
    "* Listed data science tools in a table\n",
    "* Did some arithmetic\n",
    "* Even did fancy headings"
   ]
  },
  {
   "cell_type": "markdown",
   "id": "eb7e534b",
   "metadata": {},
   "source": [
    "\n",
    "\n",
    "Some of the popular languages that Data Scientists use are: Python, R, SQL, Scala, Java, C++ and Julia. Less common ones are Javascript,  and some other less common ones like Go Ruby, Php and Visual Basic"
   ]
  },
  {
   "cell_type": "markdown",
   "id": "29f6f2a9",
   "metadata": {},
   "source": [
    "Some commonly used libraries used by Data Scientists include: \n",
    "1. Pandas, \n",
    "2. NumPy, \n",
    "3. SciPy."
   ]
  },
  {
   "cell_type": "markdown",
   "id": "20aecc07",
   "metadata": {},
   "source": [
    "|Data Science Tools|\n",
    "-----------------------\n",
    "|Anaconda|\n",
    "|VS Code|\n",
    "|R Studio|"
   ]
  },
  {
   "cell_type": "markdown",
   "id": "60000600",
   "metadata": {},
   "source": [
    "### Below are a few examples of evaluating arithmetic expressions in Python"
   ]
  },
  {
   "cell_type": "code",
   "execution_count": 1,
   "id": "05d54841",
   "metadata": {},
   "outputs": [
    {
     "data": {
      "text/plain": [
       "17"
      ]
     },
     "execution_count": 1,
     "metadata": {},
     "output_type": "execute_result"
    }
   ],
   "source": [
    "# This is a simple arithmetic expression to multiply then add integers\n",
    "(3*4)+5"
   ]
  },
  {
   "cell_type": "code",
   "execution_count": 2,
   "id": "b10da37f",
   "metadata": {},
   "outputs": [
    {
     "data": {
      "text/plain": [
       "3.3333333333333335"
      ]
     },
     "execution_count": 2,
     "metadata": {},
     "output_type": "execute_result"
    }
   ],
   "source": [
    "# This will convert 200minutes to hours by dividing by 60\n",
    "200/60"
   ]
  },
  {
   "cell_type": "markdown",
   "id": "6283bba9",
   "metadata": {},
   "source": [
    "## Author\n",
    "Bekezela Khabo"
   ]
  },
  {
   "cell_type": "code",
   "execution_count": null,
   "id": "ade4c481",
   "metadata": {},
   "outputs": [],
   "source": []
  }
 ],
 "metadata": {
  "kernelspec": {
   "display_name": "Python 3 (ipykernel)",
   "language": "python",
   "name": "python3"
  },
  "language_info": {
   "codemirror_mode": {
    "name": "ipython",
    "version": 3
   },
   "file_extension": ".py",
   "mimetype": "text/x-python",
   "name": "python",
   "nbconvert_exporter": "python",
   "pygments_lexer": "ipython3",
   "version": "3.10.9"
  }
 },
 "nbformat": 4,
 "nbformat_minor": 5
}
